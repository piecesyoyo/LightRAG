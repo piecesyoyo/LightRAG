{
 "cells": [
  {
   "cell_type": "code",
   "execution_count": 10,
   "metadata": {},
   "outputs": [
    {
     "name": "stdout",
     "output_type": "stream",
     "text": [
      "Response Status Code: 200\n",
      "Response Data: \n",
      "\n",
      "根据海关信用管理体系，获得高级认证企业（AEO）资格可享受以下核心优势：\n",
      "\n",
      "### 一、海关通关便利措施\n",
      "1. **查验率降低**  \n",
      "   享有进一步降低进出口货物查验比例的政策，提升通关效率。\n",
      "2. **优先服务机制**  \n",
      "   适用\"优先查验、优先出证\"等快速通关流程，缩短货物滞留时间。\n",
      "3. **免除税款担保**  \n",
      "   可申请免除进出口环节税款担保，减少资金占用成本。\n",
      "\n",
      "### 二、跨部门联合激励\n",
      "1. **行政审批优化**  \n",
      "   国家发展改革委、税务总局等部门为AEO企业提供绿色通道，优先办理行政许可、出口退税等事项。\n",
      "2. **融资支持**  \n",
      "   人民银行将AEO信用信息纳入金融机构授信评估，帮助企业获得更优融资条件。\n",
      "3. **荣誉评选倾斜**  \n",
      "   全国总工会、全国妇联等在\"五一劳动奖状\"\"全国三八红旗手\"等评选中优先考虑AEO企业。\n",
      "\n",
      "### 三、国际贸易便利化\n",
      "1. **AEO互认待遇**  \n",
      "   凭中国海关与欧盟、香港等80余个经济体的互认协议，享受境外通关便利措施。\n",
      "2. **出口注册优先权**  \n",
      "   食品、化妆品、农产品等出口商品可优先获得向其他国家推荐的注册资格。\n",
      "\n",
      "### 四、特殊监管区域政策\n",
      "1. **保税业务创新试点**  \n",
      "   信息化完善的AEO企业可参与综合保税区\"仓储联网监管\"\"跨关区保税展示\"等改革试点。\n",
      "2. **境外退运便利**  \n",
      "   自产工业品退运时，海关放宽书面调查和现场核查标准。\n",
      "\n",
      "### 五、信用管理优势\n",
      "1. **容错机制**  \n",
      "   主动披露违规行为时不暂停管理措施，适用特殊处理程序。\n",
      "2. **动态管理保障**  \n",
      "   海关建立\"信用修复机制\"，允许企业通过整改恢复信用等级。\n"
     ]
    }
   ],
   "source": [
    "import requests\n",
    "import json\n",
    "\n",
    "# 定义 API 的 URL 和端口\n",
    "BASE_URL = \"http://127.0.0.1:8020\"\n",
    "\n",
    "# 定义查询的参数\n",
    "query_data = {\n",
    "    \"query\": \"评上AEO企业有什么好处?\",  # 替换为你的查询内容\n",
    "    \"mode\": \"hybrid\",  # 检索模式，根据你的需求选择\n",
    "    \"only_need_context\": False  # 是否仅返回上下文\n",
    "}\n",
    "\n",
    "# 将查询参数转换为 JSON 格式\n",
    "query_json = json.dumps(query_data)\n",
    "\n",
    "# 发送 POST 请求到 /query 接口\n",
    "response = requests.post(\n",
    "    f\"{BASE_URL}/query\",\n",
    "    headers={\"Content-Type\": \"application/json\"},\n",
    "    data=query_json\n",
    ")\n",
    "\n",
    "# 打印响应内容\n",
    "print(\"Response Status Code:\", response.status_code)\n",
    "print(\"Response Data:\", response.json()['data'])"
   ]
  }
 ],
 "metadata": {
  "kernelspec": {
   "display_name": "work",
   "language": "python",
   "name": "python3"
  },
  "language_info": {
   "codemirror_mode": {
    "name": "ipython",
    "version": 3
   },
   "file_extension": ".py",
   "mimetype": "text/x-python",
   "name": "python",
   "nbconvert_exporter": "python",
   "pygments_lexer": "ipython3",
   "version": "3.10.16"
  }
 },
 "nbformat": 4,
 "nbformat_minor": 2
}
